{
  "nbformat": 4,
  "nbformat_minor": 0,
  "metadata": {
    "colab": {
      "provenance": [],
      "collapsed_sections": [],
      "authorship_tag": "ABX9TyPmJlROTOlCYJ4i5eVhKM74",
      "include_colab_link": true
    },
    "kernelspec": {
      "name": "python3",
      "display_name": "Python 3"
    },
    "language_info": {
      "name": "python"
    }
  },
  "cells": [
    {
      "cell_type": "markdown",
      "metadata": {
        "id": "view-in-github",
        "colab_type": "text"
      },
      "source": [
        "<a href=\"https://colab.research.google.com/github/Shaikmd3797/registration/blob/main/registration2022.ipynb\" target=\"_parent\"><img src=\"https://colab.research.google.com/assets/colab-badge.svg\" alt=\"Open In Colab\"/></a>"
      ]
    },
    {
      "cell_type": "code",
      "execution_count": null,
      "metadata": {
        "colab": {
          "base_uri": "https://localhost:8080/"
        },
        "id": "0pX17VFGnVQG",
        "outputId": "13e22218-8e09-4411-850c-26e3daa2c162"
      },
      "outputs": [
        {
          "output_type": "stream",
          "name": "stdout",
          "text": [
            "Choose registration or  log in as reg | login  reg\n",
            "Register your email id : afrin345@gmail.com\n",
            "Enter your password : aFrin23!\n",
            "Enter same password : aFrin23!\n",
            " registration is successfully\n"
          ]
        }
      ],
      "source": [
        "def registration():\n",
        "  global user_id\n",
        "  user_id=input(\"Register your email id : \")\n",
        "  userId_pattern=\"^[a-zA-Z][\\w.-]*[@][a-z 0-9]+[.][a-z][\\w]{1,3}$\"\n",
        "  db=open('user_id_details.txt','r')\n",
        "  details()\n",
        "  if user_id not in email:\n",
        "    if re.search(userId_pattern,user_id):\n",
        "      password()\n",
        "    else:\n",
        "      print(\"enter correct email id\")\n",
        "      registration()\n",
        "  else:\n",
        "    print(\"user_id is already exit. log in through that email id\")\n",
        "    db.close()\n",
        "    login()\n",
        "\n",
        "\n",
        "\n",
        "def password():\n",
        "  global pwd\n",
        "  pwd=input(\"Enter your password : \")\n",
        "  pwd_pattern=\"^(?=.*[a-z])(?=.*[A-Z])(?=.*\\d)(?=.*[@$!%*?&#])[A-Za-z\\d@$!%*?&]{5,16}$\"\n",
        "  if re.search(pwd_pattern,pwd):\n",
        "    confirm_password()\n",
        "  else:\n",
        "    print(\"password is not satisfied all requirements.please enter correct password\")\n",
        "    password()\n",
        "\n",
        "\n",
        "\n",
        "def confirm_password():\n",
        "  confirm_pwd=input(\"Enter same password : \")\n",
        "  if pwd==confirm_pwd:\n",
        "    db=open('user_id_details.txt','a')\n",
        "    db.writelines(user_id+\", \"+pwd+ \"\\n\")\n",
        "    print(\" registration is successfully\")\n",
        "    \n",
        "    db.close()\n",
        "  else:\n",
        "    print(\"password is not match enter same password\")\n",
        "    password()\n",
        "\n",
        "\n",
        "def login():\n",
        "  global data\n",
        "  user_id=input (\"Enter your email id : \")\n",
        "  choose_one= input(\"Choose Enter password or forgot password : pwd | forgot \")\n",
        "  if choose_one==\"pwd\":\n",
        "    pwd= input(\"Enter your password : \")\n",
        "    db=open('user_id_details.txt','r')\n",
        "    details()\n",
        "    try:\n",
        "      if data[user_id]:\n",
        "        if pwd==data[user_id]:\n",
        "          print(\"log in successfully\")\n",
        "          print(\"Hi \", user_id) \n",
        "          db.close()\n",
        "        else:\n",
        "          print(\"enter correct password\")\n",
        "          login()\n",
        "      else:\n",
        "        print(\"user id does not exist\")\n",
        "    except:\n",
        "      print(\"user id does not exist\")\n",
        "      registration()\n",
        "    \n",
        "  elif choose_one==\"forgot\":\n",
        "    forgot_pwd()\n",
        "  else:\n",
        "    print(\"choose any of the one\")\n",
        "    login()\n",
        "\n",
        "def forgot_pwd():\n",
        "  user_id=input(\"Enter your email id : \")\n",
        "  try:\n",
        "      if data[user_id]:\n",
        "        db=open('user_id_details.txt','r')\n",
        "        details()\n",
        "        print(\"the password is \",data[user_id])\n",
        "        db.close()\n",
        "        login()\n",
        "      else:\n",
        "        print(\"user id does not exist\")\n",
        "        registration()\n",
        "  except:\n",
        "    print(\"user id does not exist\")\n",
        "    registration()\n",
        "\n",
        "def details():\n",
        "  global email\n",
        "  global PWD\n",
        "  global data\n",
        "  email=[]\n",
        "  PWD=[]\n",
        "  db=open('user_id_details.txt','r')\n",
        "  for i in db:\n",
        "    A,B=i.split(\", \")\n",
        "    B=B.strip()\n",
        "    email.append(A)\n",
        "    PWD.append(B)\n",
        "    data = dict(zip(email,PWD))\n",
        "\n",
        "def start():\n",
        "  choose= input(\"Choose registration or  log in as reg | login  \")\n",
        "  if choose==\"reg\":\n",
        "    registration()\n",
        "  elif choose==\"login\":\n",
        "    login()\n",
        "  else:\n",
        "    print(\" choose any one in reg | login\")\n",
        "    start()\n",
        "\n",
        "\n",
        "db=open('user_id_details.txt','a')\n",
        "import re\n",
        "start()"
      ]
    },
    {
      "cell_type": "markdown",
      "source": [
        "# New Section"
      ],
      "metadata": {
        "id": "u5NZNUxpUl-6"
      }
    },
    {
      "cell_type": "markdown",
      "source": [
        "# New Section"
      ],
      "metadata": {
        "id": "sU9lJaX9UmCk"
      }
    }
  ]
}